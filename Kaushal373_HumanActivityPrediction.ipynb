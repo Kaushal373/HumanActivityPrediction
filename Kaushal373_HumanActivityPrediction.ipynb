{
 "cells": [
  {
   "cell_type": "markdown",
   "metadata": {},
   "source": [
    "# Human Activity Prediction\n",
    "\n",
    "<b>The current scenario has the following problems :</b>\n",
    "\n",
    "The company has collected a large amount of sensor data from smartphones but is not able to use it efficiently.\n",
    "This data can be utilized to achieve various goals that can help an individual for better health like activity detection and also monitor signs of fatigue.\n",
    "\n",
    "The company has hired you as data science consultants to automate the process of predicting the activity and draw other insights by analyzing the smartphone sensor data.\n",
    "\n",
    "Your Role\n",
    "You are given a dataset containing the details about the participants/users.\n",
    "Your task is to build a classification model for predicting the activity type.\n",
    "Because there was no machine learning model for this problem in the company, you don’t have a quantifiable win condition. You need to build the best possible model.\n",
    "\n",
    "Project Deliverables<br>\n",
    "Deliverable: Human Activity Prediction.<br>\n",
    "Machine Learning Task: Classification<br>\n",
    "Target Variable: <b> is_legendary</b><br>\n",
    "\n",
    "Evaluation Metric\n",
    "The model evaluation will be based on the Accuracy Score.\n"
   ]
  },
  {
   "cell_type": "code",
   "execution_count": 58,
   "metadata": {},
   "outputs": [],
   "source": [
    "import pandas as pd\n",
    "import numpy as np\n",
    "import matplotlib.pyplot as plt\n",
    "%matplotlib inline\n",
    "import seaborn as sns\n",
    "\n",
    "import warnings\n",
    "warnings.filterwarnings('ignore')\n",
    "\n",
    "from sklearn.model_selection import train_test_split,cross_val_score,GridSearchCV\n",
    "from sklearn.metrics import accuracy_score,f1_score\n",
    "from sklearn.preprocessing import StandardScaler\n",
    "from sklearn.feature_selection import SelectFromModel\n",
    "\n",
    "from sklearn.linear_model import LogisticRegression\n",
    "from sklearn.tree import DecisionTreeClassifier\n",
    "from sklearn.ensemble import RandomForestClassifier,AdaBoostClassifier,GradientBoostingClassifier"
   ]
  },
  {
   "cell_type": "code",
   "execution_count": 2,
   "metadata": {},
   "outputs": [
    {
     "data": {
      "text/plain": [
       "(2887, 563)"
      ]
     },
     "execution_count": 2,
     "metadata": {},
     "output_type": "execute_result"
    }
   ],
   "source": [
    "train_data = pd.read_csv('hacr_train.csv')\n",
    "train_data.shape"
   ]
  },
  {
   "cell_type": "code",
   "execution_count": 7,
   "metadata": {},
   "outputs": [
    {
     "data": {
      "text/plain": [
       "(722, 563)"
      ]
     },
     "execution_count": 7,
     "metadata": {},
     "output_type": "execute_result"
    }
   ],
   "source": [
    "test_data = pd.read_csv('hacr_test.csv')\n",
    "test_data.shape"
   ]
  },
  {
   "cell_type": "code",
   "execution_count": 8,
   "metadata": {},
   "outputs": [
    {
     "name": "stdout",
     "output_type": "stream",
     "text": [
      "<class 'pandas.core.frame.DataFrame'>\n",
      "RangeIndex: 2887 entries, 0 to 2886\n",
      "Columns: 563 entries, rn to angle.Z.gravityMean\n",
      "dtypes: float64(561), int64(1), object(1)\n",
      "memory usage: 12.4+ MB\n"
     ]
    }
   ],
   "source": [
    "train_data.info()"
   ]
  },
  {
   "cell_type": "code",
   "execution_count": 10,
   "metadata": {},
   "outputs": [
    {
     "data": {
      "text/html": [
       "<div>\n",
       "<style scoped>\n",
       "    .dataframe tbody tr th:only-of-type {\n",
       "        vertical-align: middle;\n",
       "    }\n",
       "\n",
       "    .dataframe tbody tr th {\n",
       "        vertical-align: top;\n",
       "    }\n",
       "\n",
       "    .dataframe thead th {\n",
       "        text-align: right;\n",
       "    }\n",
       "</style>\n",
       "<table border=\"1\" class=\"dataframe\">\n",
       "  <thead>\n",
       "    <tr style=\"text-align: right;\">\n",
       "      <th></th>\n",
       "      <th>rn</th>\n",
       "      <th>activity</th>\n",
       "      <th>tBodyAcc.mean.X</th>\n",
       "      <th>tBodyAcc.mean.Y</th>\n",
       "      <th>tBodyAcc.mean.Z</th>\n",
       "      <th>tBodyAcc.std.X</th>\n",
       "      <th>tBodyAcc.std.Y</th>\n",
       "      <th>tBodyAcc.std.Z</th>\n",
       "      <th>tBodyAcc.mad.X</th>\n",
       "      <th>tBodyAcc.mad.Y</th>\n",
       "      <th>...</th>\n",
       "      <th>fBodyBodyGyroJerkMag.meanFreq</th>\n",
       "      <th>fBodyBodyGyroJerkMag.skewness</th>\n",
       "      <th>fBodyBodyGyroJerkMag.kurtosis</th>\n",
       "      <th>angle.tBodyAccMean.gravity</th>\n",
       "      <th>angle.tBodyAccJerkMean.gravityMean</th>\n",
       "      <th>angle.tBodyGyroMean.gravityMean</th>\n",
       "      <th>angle.tBodyGyroJerkMean.gravityMean</th>\n",
       "      <th>angle.X.gravityMean</th>\n",
       "      <th>angle.Y.gravityMean</th>\n",
       "      <th>angle.Z.gravityMean</th>\n",
       "    </tr>\n",
       "  </thead>\n",
       "  <tbody>\n",
       "    <tr>\n",
       "      <th>0</th>\n",
       "      <td>9020</td>\n",
       "      <td>WALKING_UPSTAIRS</td>\n",
       "      <td>0.330</td>\n",
       "      <td>-0.00449</td>\n",
       "      <td>-0.0481</td>\n",
       "      <td>-0.395</td>\n",
       "      <td>-0.152</td>\n",
       "      <td>-0.196</td>\n",
       "      <td>-0.483</td>\n",
       "      <td>-0.131</td>\n",
       "      <td>...</td>\n",
       "      <td>0.395</td>\n",
       "      <td>-0.26000</td>\n",
       "      <td>-0.526</td>\n",
       "      <td>-0.03420</td>\n",
       "      <td>-0.633</td>\n",
       "      <td>-0.1710</td>\n",
       "      <td>0.6540</td>\n",
       "      <td>-0.556</td>\n",
       "      <td>0.294</td>\n",
       "      <td>0.2570</td>\n",
       "    </tr>\n",
       "    <tr>\n",
       "      <th>1</th>\n",
       "      <td>2646</td>\n",
       "      <td>WALKING</td>\n",
       "      <td>0.208</td>\n",
       "      <td>0.00554</td>\n",
       "      <td>-0.1150</td>\n",
       "      <td>-0.432</td>\n",
       "      <td>-0.122</td>\n",
       "      <td>-0.431</td>\n",
       "      <td>-0.470</td>\n",
       "      <td>-0.114</td>\n",
       "      <td>...</td>\n",
       "      <td>-0.119</td>\n",
       "      <td>0.11200</td>\n",
       "      <td>-0.171</td>\n",
       "      <td>0.72500</td>\n",
       "      <td>0.388</td>\n",
       "      <td>0.9420</td>\n",
       "      <td>-0.5880</td>\n",
       "      <td>-0.742</td>\n",
       "      <td>0.264</td>\n",
       "      <td>-0.0505</td>\n",
       "    </tr>\n",
       "    <tr>\n",
       "      <th>2</th>\n",
       "      <td>5516</td>\n",
       "      <td>SITTING</td>\n",
       "      <td>-0.413</td>\n",
       "      <td>0.25300</td>\n",
       "      <td>0.2230</td>\n",
       "      <td>-0.779</td>\n",
       "      <td>-0.569</td>\n",
       "      <td>-0.699</td>\n",
       "      <td>-0.797</td>\n",
       "      <td>-0.572</td>\n",
       "      <td>...</td>\n",
       "      <td>-0.268</td>\n",
       "      <td>-0.60800</td>\n",
       "      <td>-0.891</td>\n",
       "      <td>0.08430</td>\n",
       "      <td>0.917</td>\n",
       "      <td>-0.0414</td>\n",
       "      <td>0.0721</td>\n",
       "      <td>-0.434</td>\n",
       "      <td>-0.143</td>\n",
       "      <td>-0.2920</td>\n",
       "    </tr>\n",
       "    <tr>\n",
       "      <th>3</th>\n",
       "      <td>5499</td>\n",
       "      <td>STANDING</td>\n",
       "      <td>0.272</td>\n",
       "      <td>-0.02600</td>\n",
       "      <td>-0.1030</td>\n",
       "      <td>-0.997</td>\n",
       "      <td>-0.982</td>\n",
       "      <td>-0.983</td>\n",
       "      <td>-0.998</td>\n",
       "      <td>-0.981</td>\n",
       "      <td>...</td>\n",
       "      <td>0.354</td>\n",
       "      <td>-0.73500</td>\n",
       "      <td>-0.926</td>\n",
       "      <td>0.05260</td>\n",
       "      <td>0.121</td>\n",
       "      <td>-0.3380</td>\n",
       "      <td>0.2900</td>\n",
       "      <td>-0.854</td>\n",
       "      <td>0.170</td>\n",
       "      <td>-0.0555</td>\n",
       "    </tr>\n",
       "    <tr>\n",
       "      <th>4</th>\n",
       "      <td>4689</td>\n",
       "      <td>WALKING_UPSTAIRS</td>\n",
       "      <td>0.275</td>\n",
       "      <td>-0.03840</td>\n",
       "      <td>-0.0556</td>\n",
       "      <td>0.126</td>\n",
       "      <td>0.102</td>\n",
       "      <td>-0.044</td>\n",
       "      <td>0.104</td>\n",
       "      <td>0.101</td>\n",
       "      <td>...</td>\n",
       "      <td>0.430</td>\n",
       "      <td>-0.00277</td>\n",
       "      <td>-0.263</td>\n",
       "      <td>0.00825</td>\n",
       "      <td>-0.854</td>\n",
       "      <td>0.7730</td>\n",
       "      <td>-0.8300</td>\n",
       "      <td>-0.621</td>\n",
       "      <td>0.325</td>\n",
       "      <td>0.1480</td>\n",
       "    </tr>\n",
       "  </tbody>\n",
       "</table>\n",
       "<p>5 rows × 563 columns</p>\n",
       "</div>"
      ],
      "text/plain": [
       "     rn          activity  tBodyAcc.mean.X  tBodyAcc.mean.Y  tBodyAcc.mean.Z  \\\n",
       "0  9020  WALKING_UPSTAIRS            0.330         -0.00449          -0.0481   \n",
       "1  2646           WALKING            0.208          0.00554          -0.1150   \n",
       "2  5516           SITTING           -0.413          0.25300           0.2230   \n",
       "3  5499          STANDING            0.272         -0.02600          -0.1030   \n",
       "4  4689  WALKING_UPSTAIRS            0.275         -0.03840          -0.0556   \n",
       "\n",
       "   tBodyAcc.std.X  tBodyAcc.std.Y  tBodyAcc.std.Z  tBodyAcc.mad.X  \\\n",
       "0          -0.395          -0.152          -0.196          -0.483   \n",
       "1          -0.432          -0.122          -0.431          -0.470   \n",
       "2          -0.779          -0.569          -0.699          -0.797   \n",
       "3          -0.997          -0.982          -0.983          -0.998   \n",
       "4           0.126           0.102          -0.044           0.104   \n",
       "\n",
       "   tBodyAcc.mad.Y  ...  fBodyBodyGyroJerkMag.meanFreq  \\\n",
       "0          -0.131  ...                          0.395   \n",
       "1          -0.114  ...                         -0.119   \n",
       "2          -0.572  ...                         -0.268   \n",
       "3          -0.981  ...                          0.354   \n",
       "4           0.101  ...                          0.430   \n",
       "\n",
       "   fBodyBodyGyroJerkMag.skewness  fBodyBodyGyroJerkMag.kurtosis  \\\n",
       "0                       -0.26000                         -0.526   \n",
       "1                        0.11200                         -0.171   \n",
       "2                       -0.60800                         -0.891   \n",
       "3                       -0.73500                         -0.926   \n",
       "4                       -0.00277                         -0.263   \n",
       "\n",
       "   angle.tBodyAccMean.gravity  angle.tBodyAccJerkMean.gravityMean  \\\n",
       "0                    -0.03420                              -0.633   \n",
       "1                     0.72500                               0.388   \n",
       "2                     0.08430                               0.917   \n",
       "3                     0.05260                               0.121   \n",
       "4                     0.00825                              -0.854   \n",
       "\n",
       "   angle.tBodyGyroMean.gravityMean  angle.tBodyGyroJerkMean.gravityMean  \\\n",
       "0                          -0.1710                               0.6540   \n",
       "1                           0.9420                              -0.5880   \n",
       "2                          -0.0414                               0.0721   \n",
       "3                          -0.3380                               0.2900   \n",
       "4                           0.7730                              -0.8300   \n",
       "\n",
       "   angle.X.gravityMean  angle.Y.gravityMean  angle.Z.gravityMean  \n",
       "0               -0.556                0.294               0.2570  \n",
       "1               -0.742                0.264              -0.0505  \n",
       "2               -0.434               -0.143              -0.2920  \n",
       "3               -0.854                0.170              -0.0555  \n",
       "4               -0.621                0.325               0.1480  \n",
       "\n",
       "[5 rows x 563 columns]"
      ]
     },
     "execution_count": 10,
     "metadata": {},
     "output_type": "execute_result"
    }
   ],
   "source": [
    "train_data.head()"
   ]
  },
  {
   "cell_type": "code",
   "execution_count": 12,
   "metadata": {},
   "outputs": [
    {
     "data": {
      "text/plain": [
       "False"
      ]
     },
     "execution_count": 12,
     "metadata": {},
     "output_type": "execute_result"
    }
   ],
   "source": [
    "train_data.isnull().sum().any()"
   ]
  },
  {
   "cell_type": "code",
   "execution_count": 30,
   "metadata": {},
   "outputs": [],
   "source": [
    "train_data1 = train_data.copy()"
   ]
  },
  {
   "cell_type": "code",
   "execution_count": 31,
   "metadata": {},
   "outputs": [
    {
     "data": {
      "text/plain": [
       "array(['WALKING_UPSTAIRS', 'WALKING', 'SITTING', 'STANDING',\n",
       "       'WALKING_DOWNSTAIRS', 'LAYING'], dtype=object)"
      ]
     },
     "execution_count": 31,
     "metadata": {},
     "output_type": "execute_result"
    }
   ],
   "source": [
    "train_data1['activity'].unique()"
   ]
  },
  {
   "cell_type": "code",
   "execution_count": 32,
   "metadata": {},
   "outputs": [
    {
     "data": {
      "text/plain": [
       "STANDING              550\n",
       "LAYING                529\n",
       "SITTING               491\n",
       "WALKING               477\n",
       "WALKING_UPSTAIRS      444\n",
       "WALKING_DOWNSTAIRS    396\n",
       "Name: activity, dtype: int64"
      ]
     },
     "execution_count": 32,
     "metadata": {},
     "output_type": "execute_result"
    }
   ],
   "source": [
    "train_data['activity'].value_counts()"
   ]
  },
  {
   "cell_type": "code",
   "execution_count": 33,
   "metadata": {},
   "outputs": [],
   "source": [
    "mapop = {'WALKING_UPSTAIRS':0, 'WALKING':1, 'SITTING':2, 'STANDING':3,\n",
    "       'WALKING_DOWNSTAIRS':4, 'LAYING':5}"
   ]
  },
  {
   "cell_type": "code",
   "execution_count": 34,
   "metadata": {},
   "outputs": [],
   "source": [
    "train_data1['activity'] = train_data1['activity'].map(mapop)"
   ]
  },
  {
   "cell_type": "code",
   "execution_count": 35,
   "metadata": {},
   "outputs": [
    {
     "data": {
      "text/plain": [
       "3    550\n",
       "5    529\n",
       "2    491\n",
       "1    477\n",
       "0    444\n",
       "4    396\n",
       "Name: activity, dtype: int64"
      ]
     },
     "execution_count": 35,
     "metadata": {},
     "output_type": "execute_result"
    }
   ],
   "source": [
    "train_data1['activity'].value_counts()"
   ]
  },
  {
   "cell_type": "code",
   "execution_count": 41,
   "metadata": {},
   "outputs": [
    {
     "name": "stdout",
     "output_type": "stream",
     "text": [
      "Number of constant columns to be dropped:  0\n",
      "[]\n"
     ]
    }
   ],
   "source": [
    "# checking variables with zero standard deviation\n",
    "cols = []\n",
    "\n",
    "for i in train_data1.columns:\n",
    "    if train_data1[i].std() == 0:\n",
    "        cols.append[i]\n",
    "print(\"Number of constant columns to be dropped: \", len(cols))\n",
    "print(cols)\n",
    "    \n"
   ]
  },
  {
   "cell_type": "code",
   "execution_count": 42,
   "metadata": {},
   "outputs": [
    {
     "name": "stderr",
     "output_type": "stream",
     "text": [
      "2021-11-17 16:34:06,885 - INFO     - NumExpr defaulting to 4 threads.\n"
     ]
    }
   ],
   "source": [
    "import dtale\n",
    "d =dtale.show(train_data1)\n",
    "d.open_browser()"
   ]
  },
  {
   "cell_type": "code",
   "execution_count": 46,
   "metadata": {},
   "outputs": [],
   "source": [
    "train_data1.drop_duplicates(keep='first',inplace=True)"
   ]
  },
  {
   "cell_type": "code",
   "execution_count": 47,
   "metadata": {},
   "outputs": [
    {
     "data": {
      "text/plain": [
       "(2887, 563)"
      ]
     },
     "execution_count": 47,
     "metadata": {},
     "output_type": "execute_result"
    }
   ],
   "source": [
    "train_data1.shape"
   ]
  },
  {
   "cell_type": "code",
   "execution_count": 49,
   "metadata": {},
   "outputs": [
    {
     "name": "stdout",
     "output_type": "stream",
     "text": [
      "(2887, 561) (2887,)\n"
     ]
    }
   ],
   "source": [
    "X=train_data1.drop(['activity','rn'],axis=1)\n",
    "y=train_data1['activity']\n",
    "print(X.shape,y.shape)"
   ]
  },
  {
   "cell_type": "code",
   "execution_count": 51,
   "metadata": {},
   "outputs": [
    {
     "name": "stdout",
     "output_type": "stream",
     "text": [
      "(2309, 561) (2309,) (578, 561) (578,)\n"
     ]
    }
   ],
   "source": [
    "X_train,X_test,y_train,y_test = train_test_split(X,y,test_size=0.2,random_state=42,stratify=y)\n",
    "print(X_train.shape,y_train.shape,X_test.shape,y_test.shape)"
   ]
  },
  {
   "cell_type": "code",
   "execution_count": 52,
   "metadata": {},
   "outputs": [],
   "source": [
    "SS=StandardScaler()\n",
    "X_train[X_train.columns] = SS.fit_transform(X_train)\n",
    "X_test[X_test.columns] = SS.transform(X_test)\n"
   ]
  },
  {
   "cell_type": "markdown",
   "metadata": {},
   "source": [
    "# Model1 - Logistic Regression"
   ]
  },
  {
   "cell_type": "code",
   "execution_count": 62,
   "metadata": {},
   "outputs": [
    {
     "name": "stdout",
     "output_type": "stream",
     "text": [
      "0.9987007362494587\n",
      "0.9688581314878892\n",
      "[0.96969697 0.94805195 0.93506494 0.96536797 0.96103896 0.96536797\n",
      " 0.98701299 0.97402597 0.96969697 0.97826087]\n",
      "0.9653585544889891\n"
     ]
    }
   ],
   "source": [
    "LR = LogisticRegression()\n",
    "LR.fit(X_train,y_train)\n",
    "LR_Train = LR.predict(X_train)\n",
    "LR_Test = LR.predict(X_test)\n",
    "print(accuracy_score(LR_Train,y_train))\n",
    "print(accuracy_score(LR_Test,y_test))\n",
    "cv_score =cross_val_score(estimator=LogisticRegression(),X=X_train,y=y_train,cv=10)\n",
    "print(cv_score)\n",
    "print(np.mean(cv_score))"
   ]
  },
  {
   "cell_type": "markdown",
   "metadata": {},
   "source": [
    "# Model2 - Decision Tree Classifier"
   ]
  },
  {
   "cell_type": "code",
   "execution_count": 67,
   "metadata": {},
   "outputs": [
    {
     "name": "stdout",
     "output_type": "stream",
     "text": [
      "0.9818103074924209\n",
      "0.9083044982698962\n",
      "[0.87878788 0.88311688 0.91774892 0.87445887 0.89177489 0.94372294\n",
      " 0.9004329  0.89177489 0.91341991 0.89565217]\n",
      "0.8990890269151139\n"
     ]
    }
   ],
   "source": [
    "'''GSV1 = GridSearchCV(estimator=DecisionTreeClassifier(),cv=10,scoring='accuracy',param_grid=dict(max_depth=[1,2,3,4,5,6,7,8,9,10,11,12,13]))\n",
    "GSV1.fit(X_train,y_train)\n",
    "print(GSV1.best_params_)'''\n",
    "DT = DecisionTreeClassifier(max_depth=8)\n",
    "DT.fit(X_train,y_train)\n",
    "DT_Train = DT.predict(X_train)\n",
    "DT_Test = DT.predict(X_test)\n",
    "print(accuracy_score(DT_Train,y_train))\n",
    "print(accuracy_score(DT_Test,y_test))\n",
    "cv_score =cross_val_score(estimator=DecisionTreeClassifier(),X=X_train,y=y_train,cv=10)\n",
    "print(cv_score)\n",
    "print(np.mean(cv_score))"
   ]
  },
  {
   "cell_type": "markdown",
   "metadata": {},
   "source": [
    "# Model3 - RandomForestClassifier"
   ]
  },
  {
   "cell_type": "code",
   "execution_count": 79,
   "metadata": {},
   "outputs": [
    {
     "name": "stdout",
     "output_type": "stream",
     "text": [
      "1.0\n",
      "0.9567474048442907\n"
     ]
    },
    {
     "data": {
      "text/plain": [
       "'cv_score =cross_val_score(estimator=RandomForestClassifier(),X=X_train,y=y_train,cv=10)\\nprint(cv_score)\\nprint(np.mean(cv_score))'"
      ]
     },
     "execution_count": 79,
     "metadata": {},
     "output_type": "execute_result"
    }
   ],
   "source": [
    "'''GSV2 = GridSearchCV(estimator=RandomForestClassifier(),cv=10,scoring='accuracy',param_grid=dict(n_estimators=np.arange(20,100,10)))\n",
    "GSV2.fit(X_train,y_train)\n",
    "print(GSV2.best_params_)'''\n",
    "RF = RandomForestClassifier(n_estimators=80,class_weight='balanced',random_state=42)\n",
    "RF.fit(X_train,y_train)\n",
    "RF_Train = RF.predict(X_train)\n",
    "RF_Test = RF.predict(X_test)\n",
    "print(accuracy_score(RF_Train,y_train))\n",
    "print(accuracy_score(RF_Test,y_test))\n",
    "cv_score =cross_val_score(estimator=RandomForestClassifier(),X=X_train,y=y_train,cv=10)\n",
    "print(cv_score)\n",
    "print(np.mean(cv_score))"
   ]
  },
  {
   "cell_type": "code",
   "execution_count": 80,
   "metadata": {},
   "outputs": [],
   "source": [
    "mapop1 = {0:'WALKING_UPSTAIRS', 1:'WALKING', 2:'SITTING', 3:'STANDING',\n",
    "       4:'WALKING_DOWNSTAIRS', 5:':LAYING'}"
   ]
  },
  {
   "cell_type": "code",
   "execution_count": 95,
   "metadata": {},
   "outputs": [],
   "source": [
    "test_data1 = test_data.drop(['rn','activity'],axis=1).copy()"
   ]
  },
  {
   "cell_type": "code",
   "execution_count": 96,
   "metadata": {},
   "outputs": [],
   "source": [
    "test_data1[test_data1.columns] = SS.transform(test_data1)"
   ]
  },
  {
   "cell_type": "code",
   "execution_count": 109,
   "metadata": {},
   "outputs": [],
   "source": [
    "pred_values = LR.predict(test_data1)"
   ]
  },
  {
   "cell_type": "code",
   "execution_count": 110,
   "metadata": {},
   "outputs": [
    {
     "data": {
      "text/plain": [
       "array([4, 1, 1, 2, 5, 0, 5, 1, 4, 3, 5, 2, 3, 1, 0, 2, 1, 0, 3, 1, 2, 3,\n",
       "       4, 5, 5, 4, 2, 1, 5, 4, 1, 0, 5, 3, 2, 4, 2, 5, 1, 5, 3, 3, 0, 5,\n",
       "       4, 5, 1, 3, 2, 1, 2, 3, 5, 5, 4, 4, 3, 1, 2, 5, 4, 3, 0, 4, 1, 5,\n",
       "       1, 2, 3, 2, 3, 2, 5, 1, 2, 1, 5, 5, 0, 0, 3, 0, 0, 5, 0, 4, 4, 1,\n",
       "       3, 1, 0, 5, 0, 1, 1, 5, 5, 2, 5, 3, 1, 1, 3, 3, 2, 5, 2, 1, 4, 3,\n",
       "       4, 0, 5, 1, 5, 1, 2, 4, 5, 3, 2, 4, 2, 5, 3, 4, 3, 2, 0, 4, 5, 5,\n",
       "       5, 1, 5, 5, 2, 1, 3, 2, 5, 3, 4, 2, 3, 4, 2, 5, 1, 3, 4, 4, 2, 2,\n",
       "       2, 2, 0, 3, 0, 0, 5, 5, 5, 3, 3, 1, 1, 5, 3, 5, 0, 3, 2, 0, 4, 1,\n",
       "       3, 5, 3, 2, 4, 4, 1, 5, 2, 2, 3, 5, 4, 1, 2, 0, 2, 2, 3, 0, 0, 2,\n",
       "       4, 3, 5, 5, 2, 5, 2, 4, 2, 2, 2, 3, 0, 5, 5, 5, 5, 1, 0, 0, 2, 2,\n",
       "       1, 2, 4, 1, 4, 5, 4, 4, 0, 3, 1, 0, 5, 5, 1, 2, 5, 0, 3, 0, 3, 2,\n",
       "       3, 2, 5, 0, 1, 5, 5, 5, 1, 2, 3, 5, 1, 4, 5, 1, 5, 2, 4, 1, 2, 5,\n",
       "       3, 5, 0, 2, 5, 3, 1, 5, 2, 0, 1, 1, 1, 3, 3, 5, 1, 5, 0, 1, 3, 1,\n",
       "       0, 2, 4, 0, 1, 2, 3, 4, 5, 3, 2, 2, 1, 1, 5, 1, 2, 1, 3, 1, 0, 0,\n",
       "       5, 2, 3, 3, 1, 0, 1, 0, 3, 5, 1, 1, 2, 2, 0, 1, 2, 5, 3, 1, 3, 5,\n",
       "       5, 1, 0, 2, 2, 0, 4, 3, 2, 1, 1, 3, 3, 2, 5, 5, 4, 4, 1, 2, 5, 0,\n",
       "       5, 3, 4, 2, 3, 0, 1, 0, 2, 5, 5, 1, 3, 1, 0, 2, 2, 1, 1, 5, 0, 4,\n",
       "       3, 5, 1, 2, 5, 4, 4, 2, 3, 3, 0, 4, 4, 0, 4, 4, 3, 5, 3, 5, 0, 3,\n",
       "       1, 1, 5, 2, 2, 3, 5, 3, 2, 0, 2, 0, 0, 0, 1, 5, 5, 2, 5, 0, 2, 5,\n",
       "       5, 2, 3, 1, 5, 0, 2, 0, 3, 2, 1, 5, 5, 4, 5, 1, 3, 1, 5, 4, 5, 2,\n",
       "       3, 5, 2, 5, 4, 4, 1, 3, 1, 0, 3, 0, 0, 4, 2, 4, 2, 1, 4, 2, 4, 3,\n",
       "       3, 1, 2, 2, 1, 3, 4, 0, 5, 0, 0, 5, 5, 4, 0, 5, 2, 1, 1, 5, 0, 3,\n",
       "       5, 2, 4, 1, 2, 4, 5, 0, 5, 1, 5, 2, 5, 0, 0, 1, 3, 2, 2, 1, 4, 3,\n",
       "       5, 5, 5, 2, 5, 5, 5, 4, 4, 5, 5, 5, 3, 0, 0, 2, 4, 4, 5, 5, 5, 1,\n",
       "       1, 4, 5, 4, 0, 2, 3, 2, 3, 4, 0, 4, 1, 1, 0, 4, 1, 5, 5, 2, 5, 4,\n",
       "       3, 1, 4, 2, 4, 5, 1, 3, 5, 3, 1, 3, 4, 1, 4, 2, 5, 2, 3, 2, 5, 0,\n",
       "       1, 0, 4, 3, 3, 2, 3, 5, 4, 1, 1, 0, 2, 1, 4, 3, 5, 3, 3, 3, 5, 0,\n",
       "       4, 0, 5, 1, 5, 0, 5, 5, 4, 3, 5, 1, 5, 4, 2, 1, 5, 2, 1, 1, 2, 3,\n",
       "       2, 3, 4, 2, 2, 1, 0, 0, 2, 0, 1, 0, 2, 3, 4, 0, 2, 1, 2, 2, 1, 2,\n",
       "       0, 0, 0, 1, 1, 2, 3, 1, 5, 3, 3, 4, 2, 2, 0, 0, 3, 3, 5, 0, 1, 2,\n",
       "       5, 3, 3, 1, 3, 4, 1, 0, 1, 4, 1, 1, 3, 4, 0, 2, 2, 5, 5, 5, 1, 4,\n",
       "       0, 2, 2, 2, 3, 5, 0, 4, 4, 5, 0, 4, 3, 5, 0, 4, 0, 2, 4, 4, 1, 3,\n",
       "       2, 3, 1, 5, 2, 3, 5, 2, 2, 3, 5, 1, 2, 1, 2, 1, 4, 3], dtype=int64)"
      ]
     },
     "execution_count": 110,
     "metadata": {},
     "output_type": "execute_result"
    }
   ],
   "source": [
    "pred_values"
   ]
  },
  {
   "cell_type": "code",
   "execution_count": 111,
   "metadata": {},
   "outputs": [],
   "source": [
    "finalop = pd.DataFrame(test_data['rn'])"
   ]
  },
  {
   "cell_type": "code",
   "execution_count": 112,
   "metadata": {},
   "outputs": [],
   "source": [
    "finalop['activity'] = pred_values"
   ]
  },
  {
   "cell_type": "code",
   "execution_count": 113,
   "metadata": {},
   "outputs": [],
   "source": [
    "finalop['activity'] = finalop['activity'].map(mapop1)"
   ]
  },
  {
   "cell_type": "code",
   "execution_count": 114,
   "metadata": {},
   "outputs": [
    {
     "data": {
      "text/html": [
       "<div>\n",
       "<style scoped>\n",
       "    .dataframe tbody tr th:only-of-type {\n",
       "        vertical-align: middle;\n",
       "    }\n",
       "\n",
       "    .dataframe tbody tr th {\n",
       "        vertical-align: top;\n",
       "    }\n",
       "\n",
       "    .dataframe thead th {\n",
       "        text-align: right;\n",
       "    }\n",
       "</style>\n",
       "<table border=\"1\" class=\"dataframe\">\n",
       "  <thead>\n",
       "    <tr style=\"text-align: right;\">\n",
       "      <th></th>\n",
       "      <th>rn</th>\n",
       "      <th>activity</th>\n",
       "    </tr>\n",
       "  </thead>\n",
       "  <tbody>\n",
       "    <tr>\n",
       "      <th>0</th>\n",
       "      <td>811</td>\n",
       "      <td>WALKING_DOWNSTAIRS</td>\n",
       "    </tr>\n",
       "    <tr>\n",
       "      <th>1</th>\n",
       "      <td>8965</td>\n",
       "      <td>WALKING</td>\n",
       "    </tr>\n",
       "    <tr>\n",
       "      <th>2</th>\n",
       "      <td>5000</td>\n",
       "      <td>WALKING</td>\n",
       "    </tr>\n",
       "    <tr>\n",
       "      <th>3</th>\n",
       "      <td>1200</td>\n",
       "      <td>SITTING</td>\n",
       "    </tr>\n",
       "    <tr>\n",
       "      <th>4</th>\n",
       "      <td>9812</td>\n",
       "      <td>:LAYING</td>\n",
       "    </tr>\n",
       "    <tr>\n",
       "      <th>...</th>\n",
       "      <td>...</td>\n",
       "      <td>...</td>\n",
       "    </tr>\n",
       "    <tr>\n",
       "      <th>717</th>\n",
       "      <td>2992</td>\n",
       "      <td>WALKING</td>\n",
       "    </tr>\n",
       "    <tr>\n",
       "      <th>718</th>\n",
       "      <td>3487</td>\n",
       "      <td>SITTING</td>\n",
       "    </tr>\n",
       "    <tr>\n",
       "      <th>719</th>\n",
       "      <td>3905</td>\n",
       "      <td>WALKING</td>\n",
       "    </tr>\n",
       "    <tr>\n",
       "      <th>720</th>\n",
       "      <td>3955</td>\n",
       "      <td>WALKING_DOWNSTAIRS</td>\n",
       "    </tr>\n",
       "    <tr>\n",
       "      <th>721</th>\n",
       "      <td>6980</td>\n",
       "      <td>STANDING</td>\n",
       "    </tr>\n",
       "  </tbody>\n",
       "</table>\n",
       "<p>722 rows × 2 columns</p>\n",
       "</div>"
      ],
      "text/plain": [
       "       rn            activity\n",
       "0     811  WALKING_DOWNSTAIRS\n",
       "1    8965             WALKING\n",
       "2    5000             WALKING\n",
       "3    1200             SITTING\n",
       "4    9812             :LAYING\n",
       "..    ...                 ...\n",
       "717  2992             WALKING\n",
       "718  3487             SITTING\n",
       "719  3905             WALKING\n",
       "720  3955  WALKING_DOWNSTAIRS\n",
       "721  6980            STANDING\n",
       "\n",
       "[722 rows x 2 columns]"
      ]
     },
     "execution_count": 114,
     "metadata": {},
     "output_type": "execute_result"
    }
   ],
   "source": [
    "finalop"
   ]
  },
  {
   "cell_type": "code",
   "execution_count": 115,
   "metadata": {},
   "outputs": [],
   "source": [
    "finalop.to_csv('submission.csv',header=False,index=False)"
   ]
  },
  {
   "cell_type": "code",
   "execution_count": null,
   "metadata": {},
   "outputs": [],
   "source": []
  }
 ],
 "metadata": {
  "kernelspec": {
   "display_name": "Python 3",
   "language": "python",
   "name": "python3"
  },
  "language_info": {
   "codemirror_mode": {
    "name": "ipython",
    "version": 3
   },
   "file_extension": ".py",
   "mimetype": "text/x-python",
   "name": "python",
   "nbconvert_exporter": "python",
   "pygments_lexer": "ipython3",
   "version": "3.8.5"
  }
 },
 "nbformat": 4,
 "nbformat_minor": 4
}
